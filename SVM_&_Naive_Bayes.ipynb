{
  "nbformat": 4,
  "nbformat_minor": 0,
  "metadata": {
    "colab": {
      "provenance": []
    },
    "kernelspec": {
      "name": "python3",
      "display_name": "Python 3"
    },
    "language_info": {
      "name": "python"
    }
  },
  "cells": [
    {
      "cell_type": "markdown",
      "source": [
        "# SVM & Naive Bayes"
      ],
      "metadata": {
        "id": "QM5mSg3-BpTj"
      }
    },
    {
      "cell_type": "markdown",
      "source": [
        "1.  Write a Python program to train an SVM Classifier on the Iris dataset and evaluate accuracy."
      ],
      "metadata": {
        "id": "Gm5b_wRQBvR7"
      }
    },
    {
      "cell_type": "code",
      "source": [
        "# Import necessary libraries\n",
        "from sklearn import datasets\n",
        "from sklearn.model_selection import train_test_split\n",
        "from sklearn import svm\n",
        "from sklearn import metrics\n",
        "\n",
        "# Load the Iris dataset\n",
        "iris = datasets.load_iris()\n",
        "X = iris.data\n",
        "y = iris.target\n",
        "\n",
        "# Split the dataset into training and testing sets\n",
        "X_train, X_test, y_train, y_test = train_test_split(X, y, test_size=0.2, random_state=42)\n",
        "\n",
        "# Create an SVM classifier\n",
        "classifier = svm.SVC()\n",
        "\n",
        "# Train the classifier using the training data\n",
        "classifier.fit(X_train, y_train)\n",
        "\n",
        "# Make predictions on the test data\n",
        "y_pred = classifier.predict(X_test)\n",
        "\n",
        "# Evaluate the accuracy of the classifier\n",
        "accuracy = metrics.accuracy_score(y_test, y_pred)\n",
        "print(\"Accuracy:\", accuracy)\n",
        "\n",
        "# Print the classification report\n",
        "print(\"Classification Report:\")\n",
        "print(metrics.classification_report(y_test, y_pred))\n",
        "\n",
        "# Print the confusion matrix\n",
        "print(\"Confusion Matrix:\")\n",
        "print(metrics.confusion_matrix(y_test, y_pred))"
      ],
      "metadata": {
        "colab": {
          "base_uri": "https://localhost:8080/"
        },
        "id": "EtZW7W-xB2_h",
        "outputId": "e77b9c11-1025-4a2c-8a2b-a8bc7fd2a16a"
      },
      "execution_count": 1,
      "outputs": [
        {
          "output_type": "stream",
          "name": "stdout",
          "text": [
            "Accuracy: 1.0\n",
            "Classification Report:\n",
            "              precision    recall  f1-score   support\n",
            "\n",
            "           0       1.00      1.00      1.00        10\n",
            "           1       1.00      1.00      1.00         9\n",
            "           2       1.00      1.00      1.00        11\n",
            "\n",
            "    accuracy                           1.00        30\n",
            "   macro avg       1.00      1.00      1.00        30\n",
            "weighted avg       1.00      1.00      1.00        30\n",
            "\n",
            "Confusion Matrix:\n",
            "[[10  0  0]\n",
            " [ 0  9  0]\n",
            " [ 0  0 11]]\n"
          ]
        }
      ]
    },
    {
      "cell_type": "markdown",
      "source": [
        "2. Write a Python program to train two SVM classifiers with Linear and RBF kernels on the Wine dataset, then\n",
        "compare their accuracies."
      ],
      "metadata": {
        "id": "D2mh1wl1CLsi"
      }
    },
    {
      "cell_type": "code",
      "execution_count": 2,
      "metadata": {
        "id": "J1RfZf0mqdFw",
        "colab": {
          "base_uri": "https://localhost:8080/"
        },
        "outputId": "730fc109-5245-4930-af78-4c223c0795bf"
      },
      "outputs": [
        {
          "output_type": "stream",
          "name": "stdout",
          "text": [
            "Accuracy (Linear Kernel): 1.0\n",
            "Accuracy (RBF Kernel): 0.8055555555555556\n",
            "Linear kernel performs better with an accuracy of 1.0\n"
          ]
        }
      ],
      "source": [
        "# Import necessary libraries\n",
        "from sklearn import datasets\n",
        "from sklearn.model_selection import train_test_split\n",
        "from sklearn import svm\n",
        "from sklearn import metrics\n",
        "\n",
        "# Load the Wine dataset\n",
        "wine = datasets.load_wine()\n",
        "X = wine.data\n",
        "y = wine.target\n",
        "\n",
        "# Split the dataset into training and testing sets\n",
        "X_train, X_test, y_train, y_test = train_test_split(X, y, test_size=0.2, random_state=42)\n",
        "\n",
        "# Create SVM classifiers with Linear and RBF kernels\n",
        "svm_linear = svm.SVC(kernel='linear')\n",
        "svm_rbf = svm.SVC(kernel='rbf')\n",
        "\n",
        "# Train the classifiers using the training data\n",
        "svm_linear.fit(X_train, y_train)\n",
        "svm_rbf.fit(X_train, y_train)\n",
        "\n",
        "# Make predictions on the test data\n",
        "y_pred_linear = svm_linear.predict(X_test)\n",
        "y_pred_rbf = svm_rbf.predict(X_test)\n",
        "\n",
        "# Evaluate the accuracy of the classifiers\n",
        "accuracy_linear = metrics.accuracy_score(y_test, y_pred_linear)\n",
        "accuracy_rbf = metrics.accuracy_score(y_test, y_pred_rbf)\n",
        "\n",
        "# Print the accuracies\n",
        "print(\"Accuracy (Linear Kernel):\", accuracy_linear)\n",
        "print(\"Accuracy (RBF Kernel):\", accuracy_rbf)\n",
        "\n",
        "# Compare the accuracies\n",
        "if accuracy_linear > accuracy_rbf:\n",
        "    print(\"Linear kernel performs better with an accuracy of\", accuracy_linear)\n",
        "elif accuracy_rbf > accuracy_linear:\n",
        "    print(\"RBF kernel performs better with an accuracy of\", accuracy_rbf)\n",
        "else:\n",
        "    print(\"Both kernels perform equally well with an accuracy of\", accuracy_linear)"
      ]
    },
    {
      "cell_type": "markdown",
      "source": [
        "3. Write a Python program to train an SVM Regressor (SVR) on a housing dataset and evaluate it using Mean\n",
        "Squared Error (MSE)."
      ],
      "metadata": {
        "id": "BzP_PHPlC3sH"
      }
    },
    {
      "cell_type": "code",
      "source": [
        "# Import necessary libraries\n",
        "from sklearn import datasets\n",
        "from sklearn.model_selection import train_test_split\n",
        "from sklearn import svm\n",
        "from sklearn import metrics\n",
        "from sklearn.preprocessing import StandardScaler\n",
        "\n",
        "# Load the California Housing dataset\n",
        "housing = datasets.fetch_california_housing()\n",
        "X = housing.data\n",
        "y = housing.target\n",
        "\n",
        "# Split the dataset into training and testing sets\n",
        "X_train, X_test, y_train, y_test = train_test_split(X, y, test_size=0.2, random_state=42)\n",
        "\n",
        "# Standardize features by removing the mean and scaling to unit variance\n",
        "scaler = StandardScaler()\n",
        "X_train = scaler.fit_transform(X_train)\n",
        "X_test = scaler.transform(X_test)\n",
        "\n",
        "# Create an SVR model\n",
        "svr = svm.SVR(kernel='rbf', C=100, gamma=0.1, epsilon=0.1)\n",
        "\n",
        "# Train the SVR model using the training data\n",
        "svr.fit(X_train, y_train)\n",
        "\n",
        "# Make predictions on the test data\n",
        "y_pred = svr.predict(X_test)\n",
        "\n",
        "# Evaluate the SVR model using Mean Squared Error (MSE)\n",
        "mse = metrics.mean_squared_error(y_test, y_pred)\n",
        "print(\"Mean Squared Error (MSE):\", mse)\n",
        "\n",
        "# Evaluate the SVR model using Root Mean Squared Error (RMSE)\n",
        "rmse = mse ** 0.5\n",
        "print(\"Root Mean Squared Error (RMSE):\", rmse)\n",
        "\n",
        "# Evaluate the SVR model using Mean Absolute Error (MAE)\n",
        "mae = metrics.mean_absolute_error(y_test, y_pred)\n",
        "print(\"Mean Absolute Error (MAE):\", mae)"
      ],
      "metadata": {
        "colab": {
          "base_uri": "https://localhost:8080/"
        },
        "id": "VTbgIOSkC8BO",
        "outputId": "a09b3fef-f4b7-455d-9db2-3f26fb25c3ae"
      },
      "execution_count": 4,
      "outputs": [
        {
          "output_type": "stream",
          "name": "stdout",
          "text": [
            "Mean Squared Error (MSE): 0.32449462225743636\n",
            "Root Mean Squared Error (RMSE): 0.5696442945009073\n",
            "Mean Absolute Error (MAE): 0.37376508304715095\n"
          ]
        }
      ]
    },
    {
      "cell_type": "markdown",
      "source": [
        "4.  Write a Python program to train an SVM Classifier with a Polynomial Kernel and visualize the decision\n",
        "boundary."
      ],
      "metadata": {
        "id": "pAkrOEIPEGrj"
      }
    },
    {
      "cell_type": "code",
      "source": [
        "# Import necessary libraries\n",
        "import numpy as np\n",
        "import matplotlib.pyplot as plt\n",
        "from sklearn import svm\n",
        "from sklearn.datasets import make_blobs\n",
        "\n",
        "# Generate a dataset\n",
        "X, y = make_blobs(n_samples=200, centers=2, n_features=2, cluster_std=1.05, random_state=40)\n",
        "\n",
        "# Create an SVM classifier with a polynomial kernel\n",
        "clf = svm.SVC(kernel='poly', degree=3, C=1)\n",
        "\n",
        "# Train the classifier using the dataset\n",
        "clf.fit(X, y)\n",
        "\n",
        "# Plot the dataset\n",
        "plt.scatter(X[:, 0], X[:, 1], c=y, zorder=10, cmap=plt.cm.Paired)\n",
        "\n",
        "# Plot the decision boundary\n",
        "x_min, x_max = X[:, 0].min() - 1, X[:, 0].max() + 1\n",
        "y_min, y_max = X[:, 1].min() - 1, X[:, 1].max() + 1\n",
        "xx, yy = np.meshgrid(np.linspace(x_min, x_max), np.linspace(y_min, y_max))\n",
        "Z = clf.decision_function(np.c_[xx.ravel(), yy.ravel()])\n",
        "Z = Z.reshape(xx.shape)\n",
        "\n",
        "plt.contour(xx, yy, Z, colors='k', levels=[-1, 0, 1], linestyles=['--', '-', '--'])\n",
        "plt.scatter(clf.support_vectors_[:, 0], clf.support_vectors_[:, 1], s=300, linewidth=1, facecolors='none')\n",
        "\n",
        "plt.show()"
      ],
      "metadata": {
        "colab": {
          "base_uri": "https://localhost:8080/",
          "height": 430
        },
        "id": "OLBKW7AZEKhN",
        "outputId": "dd2b1cb4-cdbb-42b3-e594-0ea415c74b78"
      },
      "execution_count": 5,
      "outputs": [
        {
          "output_type": "display_data",
          "data": {
            "text/plain": [
              "<Figure size 640x480 with 1 Axes>"
            ],
            "image/png": "[encoded data removed]"
          },
          "metadata": {}
        }
      ]
    },
    {
      "cell_type": "markdown",
      "source": [
        "5. Write a Python program to train a Gaussian Naïve Bayes classifier on the Breast Cancer dataset and\n",
        "evaluate accuracy."
      ],
      "metadata": {
        "id": "4P8sH7kYEUWg"
      }
    },
    {
      "cell_type": "code",
      "source": [
        "# Import necessary libraries\n",
        "from sklearn import datasets\n",
        "from sklearn.model_selection import train_test_split\n",
        "from sklearn.naive_bayes import GaussianNB\n",
        "from sklearn import metrics\n",
        "\n",
        "# Load the Breast Cancer dataset\n",
        "breast_cancer = datasets.load_breast_cancer()\n",
        "X = breast_cancer.data\n",
        "y = breast_cancer.target\n",
        "\n",
        "# Split the dataset into training and testing sets\n",
        "X_train, X_test, y_train, y_test = train_test_split(X, y, test_size=0.2, random_state=42)\n",
        "\n",
        "# Create a Gaussian Naïve Bayes classifier\n",
        "gnb = GaussianNB()\n",
        "\n",
        "# Train the classifier using the training data\n",
        "gnb.fit(X_train, y_train)\n",
        "\n",
        "# Make predictions on the test data\n",
        "y_pred = gnb.predict(X_test)\n",
        "\n",
        "# Evaluate the accuracy of the classifier\n",
        "accuracy = metrics.accuracy_score(y_test, y_pred)\n",
        "print(\"Accuracy:\", accuracy)\n",
        "\n",
        "# Print the classification report\n",
        "print(\"Classification Report:\")\n",
        "print(metrics.classification_report(y_test, y_pred))\n",
        "\n",
        "# Print the confusion matrix\n",
        "print(\"Confusion Matrix:\")\n",
        "print(metrics.confusion_matrix(y_test, y_pred))"
      ],
      "metadata": {
        "colab": {
          "base_uri": "https://localhost:8080/"
        },
        "id": "uF27jdBoEbYN",
        "outputId": "3d916a80-5fae-4d09-b597-cec498f2846e"
      },
      "execution_count": 6,
      "outputs": [
        {
          "output_type": "stream",
          "name": "stdout",
          "text": [
            "Accuracy: 0.9736842105263158\n",
            "Classification Report:\n",
            "              precision    recall  f1-score   support\n",
            "\n",
            "           0       1.00      0.93      0.96        43\n",
            "           1       0.96      1.00      0.98        71\n",
            "\n",
            "    accuracy                           0.97       114\n",
            "   macro avg       0.98      0.97      0.97       114\n",
            "weighted avg       0.97      0.97      0.97       114\n",
            "\n",
            "Confusion Matrix:\n",
            "[[40  3]\n",
            " [ 0 71]]\n"
          ]
        }
      ]
    },
    {
      "cell_type": "markdown",
      "source": [
        "6. Write a Python program to train a Multinomial Naïve Bayes classifier for text classification using the 20\n",
        "Newsgroups dataset."
      ],
      "metadata": {
        "id": "PS5-cPtqEyB4"
      }
    },
    {
      "cell_type": "code",
      "source": [
        "# Import necessary libraries\n",
        "from sklearn.datasets import fetch_20newsgroups\n",
        "from sklearn.model_selection import train_test_split\n",
        "from sklearn.feature_extraction.text import TfidfVectorizer\n",
        "from sklearn.naive_bayes import MultinomialNB\n",
        "from sklearn import metrics\n",
        "\n",
        "# Load the 20 Newsgroups dataset\n",
        "newsgroups = fetch_20newsgroups(subset='all')\n",
        "\n",
        "# Split the dataset into training and testing sets\n",
        "X_train, X_test, y_train, y_test = train_test_split(newsgroups.data, newsgroups.target, test_size=0.2, random_state=42)\n",
        "\n",
        "# Create a TF-IDF vectorizer\n",
        "vectorizer = TfidfVectorizer(stop_words='english')\n",
        "\n",
        "# Fit the vectorizer to the training data and transform both the training and testing data\n",
        "X_train_tfidf = vectorizer.fit_transform(X_train)\n",
        "X_test_tfidf = vectorizer.transform(X_test)\n",
        "\n",
        "# Create a Multinomial Naïve Bayes classifier\n",
        "mnb = MultinomialNB()\n",
        "\n",
        "# Train the classifier using the training data\n",
        "mnb.fit(X_train_tfidf, y_train)\n",
        "\n",
        "# Make predictions on the test data\n",
        "y_pred = mnb.predict(X_test_tfidf)\n",
        "\n",
        "# Evaluate the accuracy of the classifier\n",
        "accuracy = metrics.accuracy_score(y_test, y_pred)\n",
        "print(\"Accuracy:\", accuracy)\n",
        "\n",
        "# Print the classification report\n",
        "print(\"Classification Report:\")\n",
        "print(metrics.classification_report(y_test, y_pred))\n",
        "\n",
        "# Print the confusion matrix\n",
        "print(\"Confusion Matrix:\")\n",
        "print(metrics.confusion_matrix(y_test, y_pred))"
      ],
      "metadata": {
        "colab": {
          "base_uri": "https://localhost:8080/"
        },
        "id": "TffGaQ8gE24P",
        "outputId": "806c23f3-3df9-4b4a-8bce-7a9ff38d9ff5"
      },
      "execution_count": 7,
      "outputs": [
        {
          "output_type": "stream",
          "name": "stdout",
          "text": [
            "Accuracy: 0.8785145888594165\n",
            "Classification Report:\n",
            "              precision    recall  f1-score   support\n",
            "\n",
            "           0       0.85      0.86      0.86       151\n",
            "           1       0.88      0.84      0.86       202\n",
            "           2       0.87      0.85      0.86       195\n",
            "           3       0.65      0.85      0.74       183\n",
            "           4       0.94      0.87      0.90       205\n",
            "           5       0.95      0.85      0.90       215\n",
            "           6       0.93      0.72      0.81       193\n",
            "           7       0.91      0.94      0.92       196\n",
            "           8       0.89      0.95      0.92       168\n",
            "           9       0.95      0.95      0.95       211\n",
            "          10       0.90      0.99      0.94       198\n",
            "          11       0.91      0.97      0.94       201\n",
            "          12       0.92      0.82      0.86       202\n",
            "          13       0.97      0.94      0.96       194\n",
            "          14       0.88      0.99      0.93       189\n",
            "          15       0.72      0.99      0.83       202\n",
            "          16       0.81      0.97      0.88       188\n",
            "          17       0.94      0.99      0.97       182\n",
            "          18       0.96      0.75      0.84       159\n",
            "          19       1.00      0.31      0.47       136\n",
            "\n",
            "    accuracy                           0.88      3770\n",
            "   macro avg       0.89      0.87      0.87      3770\n",
            "weighted avg       0.89      0.88      0.87      3770\n",
            "\n",
            "Confusion Matrix:\n",
            "[[130   0   0   0   0   0   0   0   0   0   0   0   0   0   2  15   2   1\n",
            "    1   0]\n",
            " [  0 169   5  10   0   4   2   0   1   2   0   2   0   0   2   3   0   2\n",
            "    0   0]\n",
            " [  0   5 165  18   0   3   0   1   1   0   0   0   0   0   2   0   0   0\n",
            "    0   0]\n",
            " [  0   3   7 156   7   0   2   1   0   0   1   1   3   0   1   0   0   1\n",
            "    0   0]\n",
            " [  0   0   3  10 179   1   1   2   0   0   1   3   3   0   2   0   0   0\n",
            "    0   0]\n",
            " [  0   9   2   7   1 182   0   0   5   1   2   1   0   0   4   0   1   0\n",
            "    0   0]\n",
            " [  0   0   2  26   0   0 139   9   2   2   2   1   5   1   2   1   1   0\n",
            "    0   0]\n",
            " [  0   1   0   0   0   0   1 184   3   0   1   0   1   1   1   0   3   0\n",
            "    0   0]\n",
            " [  0   0   0   1   0   0   3   2 160   0   0   0   1   0   0   0   1   0\n",
            "    0   0]\n",
            " [  0   0   0   0   0   0   0   0   1 201   8   0   0   0   0   1   0   0\n",
            "    0   0]\n",
            " [  0   0   0   1   0   0   0   0   1   0 196   0   0   0   0   0   0   0\n",
            "    0   0]\n",
            " [  0   2   3   0   0   0   0   0   0   0   0 194   0   0   0   0   1   1\n",
            "    0   0]\n",
            " [  0   3   0  12   4   0   2   1   1   2   2   6 165   0   4   0   0   0\n",
            "    0   0]\n",
            " [  0   0   2   0   0   0   0   1   1   1   1   1   2 182   1   0   1   0\n",
            "    1   0]\n",
            " [  0   0   0   0   0   1   0   0   0   0   0   0   0   1 187   0   0   0\n",
            "    0   0]\n",
            " [  1   0   0   0   0   0   0   0   0   0   0   0   0   0   0 199   0   2\n",
            "    0   0]\n",
            " [  0   0   1   0   0   0   0   0   1   0   1   1   0   1   0   1 182   0\n",
            "    0   0]\n",
            " [  0   0   0   0   0   0   0   0   0   0   0   1   0   0   0   0   0 181\n",
            "    0   0]\n",
            " [  1   0   0   0   0   0   0   1   0   0   1   2   0   1   5   3  22   4\n",
            "  119   0]\n",
            " [ 21   0   0   0   0   0   0   0   2   2   2   0   0   0   0  53  10   1\n",
            "    3  42]]\n"
          ]
        }
      ]
    },
    {
      "cell_type": "markdown",
      "source": [
        "7. Write a Python program to train an SVM Classifier with different C values and compare the decision\n",
        "boundaries visually."
      ],
      "metadata": {
        "id": "K_Wik1yrGi2_"
      }
    },
    {
      "cell_type": "code",
      "source": [
        "# Import necessary libraries\n",
        "import numpy as np\n",
        "import matplotlib.pyplot as plt\n",
        "from sklearn import svm\n",
        "from sklearn.datasets import make_blobs\n",
        "\n",
        "# Generate a dataset\n",
        "X, y = make_blobs(n_samples=200, centers=2, n_features=2, cluster_std=1.05, random_state=40)\n",
        "\n",
        "# Define C values\n",
        "C_values = [0.1, 1, 10]\n",
        "\n",
        "# Create a figure with multiple subplots\n",
        "fig, axs = plt.subplots(1, len(C_values), figsize=(15, 5))\n",
        "\n",
        "# Train SVM classifiers with different C values and plot decision boundaries\n",
        "for i, C in enumerate(C_values):\n",
        "    clf = svm.SVC(kernel='linear', C=C)\n",
        "    clf.fit(X, y)\n",
        "\n",
        "    # Plot the dataset\n",
        "    axs[i].scatter(X[:, 0], X[:, 1], c=y, zorder=10, cmap=plt.cm.Paired)\n",
        "\n",
        "    # Plot the decision boundary\n",
        "    x_min, x_max = X[:, 0].min() - 1, X[:, 0].max() + 1\n",
        "    y_min, y_max = X[:, 1].min() - 1, X[:, 1].max() + 1\n",
        "    xx, yy = np.meshgrid(np.linspace(x_min, x_max), np.linspace(y_min, y_max))\n",
        "    Z = clf.decision_function(np.c_[xx.ravel(), yy.ravel()])\n",
        "    Z = Z.reshape(xx.shape)\n",
        "    axs[i].contour(xx, yy, Z, colors='k', levels=[-1, 0, 1], linestyles=['--', '-', '--'])\n",
        "\n",
        "    # Highlight support vectors\n",
        "    axs[i].scatter(clf.support_vectors_[:, 0], clf.support_vectors_[:, 1], s=300, linewidth=1, facecolors='none')\n",
        "\n",
        "    axs[i].set_title(f\"C = {C}\")\n",
        "\n",
        "plt.show()"
      ],
      "metadata": {
        "colab": {
          "base_uri": "https://localhost:8080/",
          "height": 468
        },
        "id": "2tcb1iAAG_jC",
        "outputId": "09eced40-386b-4fcd-b73d-cfdae41f6dc7"
      },
      "execution_count": 8,
      "outputs": [
        {
          "output_type": "display_data",
          "data": {
            "text/plain": [
              "<Figure size 1500x500 with 3 Axes>"
            ],
            "image/png": "[encoded data removed]"
          },
          "metadata": {}
        }
      ]
    },
    {
      "cell_type": "markdown",
      "source": [
        "8. Write a Python program to train a Bernoulli Naïve Bayes classifier for binary classification on a dataset with\n",
        "binary features."
      ],
      "metadata": {
        "id": "RAQgZ7QgHJN_"
      }
    },
    {
      "cell_type": "code",
      "source": [
        "# Import necessary libraries\n",
        "from sklearn.model_selection import train_test_split\n",
        "from sklearn.naive_bayes import BernoulliNB\n",
        "from sklearn import metrics\n",
        "import numpy as np\n",
        "\n",
        "# Generate a dataset with binary features\n",
        "np.random.seed(0)\n",
        "X = np.random.randint(2, size=(200, 10))  # 200 samples, 10 binary features\n",
        "y = np.random.randint(2, size=200)  # Binary target variable\n",
        "\n",
        "# Split the dataset into training and testing sets\n",
        "X_train, X_test, y_train, y_test = train_test_split(X, y, test_size=0.2, random_state=42)\n",
        "\n",
        "# Create a Bernoulli Naïve Bayes classifier\n",
        "bnb = BernoulliNB()\n",
        "\n",
        "# Train the classifier using the training data\n",
        "bnb.fit(X_train, y_train)\n",
        "\n",
        "# Make predictions on the test data\n",
        "y_pred = bnb.predict(X_test)\n",
        "\n",
        "# Evaluate the accuracy of the classifier\n",
        "accuracy = metrics.accuracy_score(y_test, y_pred)\n",
        "print(\"Accuracy:\", accuracy)\n",
        "\n",
        "# Print the classification report\n",
        "print(\"Classification Report:\")\n",
        "print(metrics.classification_report(y_test, y_pred))\n",
        "\n",
        "# Print the confusion matrix\n",
        "print(\"Confusion Matrix:\")\n",
        "print(metrics.confusion_matrix(y_test, y_pred))"
      ],
      "metadata": {
        "colab": {
          "base_uri": "https://localhost:8080/"
        },
        "id": "PuNDD9eHHNzq",
        "outputId": "26e9e830-bea9-4465-f4da-bb8487c45833"
      },
      "execution_count": 9,
      "outputs": [
        {
          "output_type": "stream",
          "name": "stdout",
          "text": [
            "Accuracy: 0.35\n",
            "Classification Report:\n",
            "              precision    recall  f1-score   support\n",
            "\n",
            "           0       0.39      0.43      0.41        21\n",
            "           1       0.29      0.26      0.28        19\n",
            "\n",
            "    accuracy                           0.35        40\n",
            "   macro avg       0.34      0.35      0.34        40\n",
            "weighted avg       0.35      0.35      0.35        40\n",
            "\n",
            "Confusion Matrix:\n",
            "[[ 9 12]\n",
            " [14  5]]\n"
          ]
        }
      ]
    },
    {
      "cell_type": "markdown",
      "source": [
        "9. Write a Python program to apply feature scaling before training an SVM model and compare results with\n",
        "unscaled data."
      ],
      "metadata": {
        "id": "6E7vVvRrHdKk"
      }
    },
    {
      "cell_type": "code",
      "source": [
        "# Import necessary libraries\n",
        "from sklearn import datasets\n",
        "from sklearn.model_selection import train_test_split\n",
        "from sklearn import svm\n",
        "from sklearn import metrics\n",
        "from sklearn.preprocessing import StandardScaler\n",
        "\n",
        "# Load the Iris dataset\n",
        "iris = datasets.load_iris()\n",
        "X = iris.data\n",
        "y = iris.target\n",
        "\n",
        "# Split the dataset into training and testing sets\n",
        "X_train, X_test, y_train, y_test = train_test_split(X, y, test_size=0.2, random_state=42)\n",
        "\n",
        "# Train an SVM model on unscaled data\n",
        "svm_unscaled = svm.SVC(kernel='linear', C=1)\n",
        "svm_unscaled.fit(X_train, y_train)\n",
        "y_pred_unscaled = svm_unscaled.predict(X_test)\n",
        "accuracy_unscaled = metrics.accuracy_score(y_test, y_pred_unscaled)\n",
        "print(\"Accuracy (Unscaled Data):\", accuracy_unscaled)\n",
        "\n",
        "# Apply feature scaling using StandardScaler\n",
        "scaler = StandardScaler()\n",
        "X_train_scaled = scaler.fit_transform(X_train)\n",
        "X_test_scaled = scaler.transform(X_test)\n",
        "\n",
        "# Train an SVM model on scaled data\n",
        "svm_scaled = svm.SVC(kernel='linear', C=1)\n",
        "svm_scaled.fit(X_train_scaled, y_train)\n",
        "y_pred_scaled = svm_scaled.predict(X_test_scaled)\n",
        "accuracy_scaled = metrics.accuracy_score(y_test, y_pred_scaled)\n",
        "print(\"Accuracy (Scaled Data):\", accuracy_scaled)\n",
        "\n",
        "# Compare the results\n",
        "if accuracy_scaled > accuracy_unscaled:\n",
        "    print(\"Feature scaling improves the accuracy of the SVM model.\")\n",
        "elif accuracy_unscaled > accuracy_scaled:\n",
        "    print(\"No improvement in accuracy after feature scaling.\")\n",
        "else:\n",
        "    print(\"Feature scaling does not affect the accuracy of the SVM model.\")"
      ],
      "metadata": {
        "colab": {
          "base_uri": "https://localhost:8080/"
        },
        "id": "BKaUL52SHgrr",
        "outputId": "d6dcb227-d428-417e-c741-c6c2d8d25813"
      },
      "execution_count": 10,
      "outputs": [
        {
          "output_type": "stream",
          "name": "stdout",
          "text": [
            "Accuracy (Unscaled Data): 1.0\n",
            "Accuracy (Scaled Data): 0.9666666666666667\n",
            "No improvement in accuracy after feature scaling.\n"
          ]
        }
      ]
    },
    {
      "cell_type": "markdown",
      "source": [
        "10. Write a Python program to train a Gaussian Naïve Bayes model and compare the predictions before and\n",
        "after Laplace Smoothing."
      ],
      "metadata": {
        "id": "34H1I2VmHqzF"
      }
    },
    {
      "cell_type": "code",
      "source": [
        "# Import necessary libraries\n",
        "from sklearn.model_selection import train_test_split\n",
        "from sklearn.naive_bayes import GaussianNB\n",
        "from sklearn import metrics\n",
        "from sklearn.datasets import load_iris\n",
        "import numpy as np\n",
        "\n",
        "# Load the Iris dataset\n",
        "iris = load_iris()\n",
        "X = iris.data\n",
        "y = iris.target\n",
        "\n",
        "# Split the dataset into training and testing sets\n",
        "X_train, X_test, y_train, y_test = train_test_split(X, y, test_size=0.2, random_state=42)\n",
        "\n",
        "# Train a Gaussian Naïve Bayes model without var_smoothing\n",
        "gnb_without_smoothing = GaussianNB(var_smoothing=0)\n",
        "gnb_without_smoothing.fit(X_train, y_train)\n",
        "y_pred_without_smoothing = gnb_without_smoothing.predict(X_test)\n",
        "accuracy_without_smoothing = metrics.accuracy_score(y_test, y_pred_without_smoothing)\n",
        "print(\"Accuracy (Without Smoothing):\", accuracy_without_smoothing)\n",
        "\n",
        "# Train a Gaussian Naïve Bayes model with var_smoothing\n",
        "gnb_with_smoothing = GaussianNB(var_smoothing=1e-9) # A small value for var_smoothing\n",
        "gnb_with_smoothing.fit(X_train, y_train)\n",
        "y_pred_with_smoothing = gnb_with_smoothing.predict(X_test)\n",
        "accuracy_with_smoothing = metrics.accuracy_score(y_test, y_pred_with_smoothing)\n",
        "print(\"Accuracy (With Smoothing):\", accuracy_with_smoothing)\n",
        "\n",
        "# Compare the results\n",
        "if accuracy_with_smoothing > accuracy_without_smoothing:\n",
        "    print(\"Smoothing improves the accuracy of the Gaussian Naïve Bayes model.\")\n",
        "elif accuracy_without_smoothing > accuracy_with_smoothing:\n",
        "    print(\"No improvement in accuracy after smoothing.\")\n",
        "else:\n",
        "    print(\"Smoothing does not affect the accuracy of the Gaussian Naïve Bayes model.\")\n"
      ],
      "metadata": {
        "colab": {
          "base_uri": "https://localhost:8080/"
        },
        "id": "53fj6ZykHv-c",
        "outputId": "ade46ae9-c7cb-4c3a-ff80-e68e7f0960ae"
      },
      "execution_count": 11,
      "outputs": [
        {
          "output_type": "stream",
          "name": "stdout",
          "text": [
            "Accuracy (Without Smoothing): 1.0\n",
            "Accuracy (With Smoothing): 1.0\n",
            "Smoothing does not affect the accuracy of the Gaussian Naïve Bayes model.\n"
          ]
        }
      ]
    },
    {
      "cell_type": "markdown",
      "source": [
        "11. Write a Python program to train an SVM Classifier and use GridSearchCV to tune the hyperparameters (C,\n",
        "gamma, kernel)."
      ],
      "metadata": {
        "id": "d9GFtlWsH5ka"
      }
    },
    {
      "cell_type": "code",
      "source": [
        "# Import necessary libraries\n",
        "from sklearn import datasets\n",
        "from sklearn.model_selection import train_test_split, GridSearchCV\n",
        "from sklearn import svm\n",
        "from sklearn import metrics\n",
        "\n",
        "# Load the Iris dataset\n",
        "iris = datasets.load_iris()\n",
        "X = iris.data\n",
        "y = iris.target\n",
        "\n",
        "# Split the dataset into training and testing sets\n",
        "X_train, X_test, y_train, y_test = train_test_split(X, y, test_size=0.2, random_state=42)\n",
        "\n",
        "# Define the hyperparameter grid\n",
        "param_grid = {\n",
        "    'C': [0.1, 1, 10],\n",
        "    'gamma': ['scale', 'auto', 0.1, 1, 10],\n",
        "    'kernel': ['linear', 'rbf', 'poly']\n",
        "}\n",
        "\n",
        "# Create an SVM classifier\n",
        "svm_classifier = svm.SVC()\n",
        "\n",
        "# Perform grid search with cross-validation\n",
        "grid_search = GridSearchCV(estimator=svm_classifier, param_grid=param_grid, cv=5)\n",
        "grid_search.fit(X_train, y_train)\n",
        "\n",
        "# Print the best hyperparameters\n",
        "print(\"Best Hyperparameters:\", grid_search.best_params_)\n",
        "\n",
        "# Train the SVM classifier with the best hyperparameters\n",
        "best_svm = grid_search.best_estimator_\n",
        "best_svm.fit(X_train, y_train)\n",
        "\n",
        "# Make predictions on the test data\n",
        "y_pred = best_svm.predict(X_test)\n",
        "\n",
        "# Evaluate the accuracy of the classifier\n",
        "accuracy = metrics.accuracy_score(y_test, y_pred)\n",
        "print(\"Accuracy:\", accuracy)\n",
        "\n",
        "# Print the classification report\n",
        "print(\"Classification Report:\")\n",
        "print(metrics.classification_report(y_test, y_pred))\n",
        "\n",
        "# Print the confusion matrix\n",
        "print(\"Confusion Matrix:\")\n",
        "print(metrics.confusion_matrix(y_test, y_pred))"
      ],
      "metadata": {
        "colab": {
          "base_uri": "https://localhost:8080/"
        },
        "id": "uR8sxrg8H-eh",
        "outputId": "4d1aa20a-9af9-4071-a677-00762d4e73ce"
      },
      "execution_count": 12,
      "outputs": [
        {
          "output_type": "stream",
          "name": "stdout",
          "text": [
            "Best Hyperparameters: {'C': 0.1, 'gamma': 0.1, 'kernel': 'poly'}\n",
            "Accuracy: 1.0\n",
            "Classification Report:\n",
            "              precision    recall  f1-score   support\n",
            "\n",
            "           0       1.00      1.00      1.00        10\n",
            "           1       1.00      1.00      1.00         9\n",
            "           2       1.00      1.00      1.00        11\n",
            "\n",
            "    accuracy                           1.00        30\n",
            "   macro avg       1.00      1.00      1.00        30\n",
            "weighted avg       1.00      1.00      1.00        30\n",
            "\n",
            "Confusion Matrix:\n",
            "[[10  0  0]\n",
            " [ 0  9  0]\n",
            " [ 0  0 11]]\n"
          ]
        }
      ]
    },
    {
      "cell_type": "markdown",
      "source": [
        "12. Write a Python program to train an SVM Classifier on an imbalanced dataset and apply class weighting and\n",
        "check it improve accuracy."
      ],
      "metadata": {
        "id": "uAo4BXkRIQwg"
      }
    },
    {
      "cell_type": "code",
      "source": [
        "# Import necessary libraries\n",
        "from sklearn import datasets\n",
        "from sklearn.model_selection import train_test_split\n",
        "from sklearn import svm\n",
        "from sklearn import metrics\n",
        "from sklearn.datasets import make_classification\n",
        "import numpy as np\n",
        "\n",
        "# Generate an imbalanced dataset\n",
        "X, y = make_classification(n_samples=1000, n_features=20, n_informative=15, n_redundant=3, n_repeated=2, n_classes=2, weights=[0.1, 0.9], random_state=42)\n",
        "\n",
        "# Split the dataset into training and testing sets\n",
        "X_train, X_test, y_train, y_test = train_test_split(X, y, test_size=0.2, random_state=42)\n",
        "\n",
        "# Train an SVM classifier without class weighting\n",
        "svm_unweighted = svm.SVC(kernel='linear', C=1)\n",
        "svm_unweighted.fit(X_train, y_train)\n",
        "y_pred_unweighted = svm_unweighted.predict(X_test)\n",
        "accuracy_unweighted = metrics.accuracy_score(y_test, y_pred_unweighted)\n",
        "print(\"Accuracy (Without Class Weighting):\", accuracy_unweighted)\n",
        "print(\"F1 Score (Without Class Weighting):\", metrics.f1_score(y_test, y_pred_unweighted))\n",
        "\n",
        "# Train an SVM classifier with class weighting\n",
        "svm_weighted = svm.SVC(kernel='linear', C=1, class_weight='balanced')\n",
        "svm_weighted.fit(X_train, y_train)\n",
        "y_pred_weighted = svm_weighted.predict(X_test)\n",
        "accuracy_weighted = metrics.accuracy_score(y_test, y_pred_weighted)\n",
        "print(\"Accuracy (With Class Weighting):\", accuracy_weighted)\n",
        "print(\"F1 Score (With Class Weighting):\", metrics.f1_score(y_test, y_pred_weighted))\n",
        "\n",
        "# Compare the results\n",
        "if accuracy_weighted > accuracy_unweighted:\n",
        "    print(\"Class weighting improves the accuracy of the SVM classifier.\")\n",
        "elif accuracy_unweighted > accuracy_weighted:\n",
        "    print(\"No improvement in accuracy after class weighting.\")\n",
        "else:\n",
        "    print(\"Class weighting does not affect the accuracy of the SVM classifier.\")"
      ],
      "metadata": {
        "colab": {
          "base_uri": "https://localhost:8080/"
        },
        "id": "bWXIjVcqIUOY",
        "outputId": "d8dae96b-ffd6-447a-9076-75d061868b25"
      },
      "execution_count": 15,
      "outputs": [
        {
          "output_type": "stream",
          "name": "stdout",
          "text": [
            "Accuracy (Without Class Weighting): 0.935\n",
            "F1 Score (Without Class Weighting): 0.9653333333333334\n",
            "Accuracy (With Class Weighting): 0.82\n",
            "F1 Score (With Class Weighting): 0.8922155688622755\n",
            "No improvement in accuracy after class weighting.\n"
          ]
        }
      ]
    },
    {
      "cell_type": "markdown",
      "source": [
        "13. Write a Python program to implement a Naïve Bayes classifier for spam detection using email data."
      ],
      "metadata": {
        "id": "FnF2xZlrI08I"
      }
    },
    {
      "cell_type": "code",
      "source": [
        "\n",
        "from sklearn.feature_extraction.text import CountVectorizer\n",
        "from sklearn.naive_bayes import MultinomialNB\n",
        "\n",
        "# Sample email data\n",
        "emails = [\n",
        "    'Get rich quick with this amazing offer!',\n",
        "    'Hi, how are you doing?',\n",
        "    'Free money now!',\n",
        "    'Meeting scheduled for tomorrow',\n",
        "    'Urgent: Your account has been compromised',\n",
        "    'Hello, just wanted to check in',\n",
        "    'Claim your prize today!'\n",
        "]\n",
        "\n",
        "# Corresponding labels (1 for spam, 0 for not spam)\n",
        "labels = [1, 0, 1, 0, 1, 0, 1]\n",
        "\n",
        "# Split data into training and testing sets (optional for this small example, but good practice)\n",
        "# For this small dataset, we'll use all data for training.\n",
        "X_train, y_train = emails, labels\n",
        "\n",
        "# Create a CountVectorizer to convert text data into a matrix of token counts\n",
        "vectorizer = CountVectorizer()\n",
        "\n",
        "# Fit the vectorizer on the training data and transform it\n",
        "X_train_counts = vectorizer.fit_transform(X_train)\n",
        "\n",
        "# Create a Multinomial Naïve Bayes classifier\n",
        "mnb_spam = MultinomialNB()\n",
        "\n",
        "# Train the classifier\n",
        "mnb_spam.fit(X_train_counts, y_train)\n",
        "\n",
        "# Now, let's test with some new emails\n",
        "new_emails = [\n",
        "    'Win a free iPhone now!',\n",
        "    'Can we reschedule the meeting?',\n",
        "    'Your bank account is blocked.',\n",
        "    'Just saying hi'\n",
        "]\n",
        "\n",
        "# Transform the new emails using the same vectorizer\n",
        "X_new_counts = vectorizer.transform(new_emails)\n",
        "\n",
        "# Predict the labels for the new emails\n",
        "predicted_labels = mnb_spam.predict(X_new_counts)\n",
        "\n",
        "# Map predictions back to 'spam' or 'not spam'\n",
        "label_map = {1: 'spam', 0: 'not spam'}\n",
        "predicted_spam = [label_map[label] for label in predicted_labels]\n",
        "\n",
        "# Print the predictions\n",
        "for email, prediction in zip(new_emails, predicted_spam):\n",
        "    print(f\"Email: '{email}' -> Prediction: {prediction}\")\n",
        "\n",
        "# For a more realistic scenario, you would use a larger, labeled dataset\n",
        "# and split it into training and testing sets to evaluate performance\n",
        "# using metrics like accuracy, precision, recall, and F1-score.\n"
      ],
      "metadata": {
        "colab": {
          "base_uri": "https://localhost:8080/"
        },
        "id": "-6VR2A2rJseg",
        "outputId": "05df6272-0b4b-4de3-88bf-15f05d3a2469"
      },
      "execution_count": 20,
      "outputs": [
        {
          "output_type": "stream",
          "name": "stdout",
          "text": [
            "Email: 'Win a free iPhone now!' -> Prediction: spam\n",
            "Email: 'Can we reschedule the meeting?' -> Prediction: not spam\n",
            "Email: 'Your bank account is blocked.' -> Prediction: spam\n",
            "Email: 'Just saying hi' -> Prediction: not spam\n"
          ]
        }
      ]
    },
    {
      "cell_type": "markdown",
      "source": [
        "14. Write a Python program to train an SVM Classifier and a Naïve Bayes Classifier on the same dataset and\n",
        "compare their accuracy."
      ],
      "metadata": {
        "id": "aBZd2k4_KMUe"
      }
    },
    {
      "cell_type": "code",
      "source": [
        "# Load a dataset (e.g., Iris dataset)\n",
        "iris = datasets.load_iris()\n",
        "X = iris.data\n",
        "y = iris.target\n",
        "\n",
        "# Split the dataset into training and testing sets\n",
        "X_train, X_test, y_train, y_test = train_test_split(X, y, test_size=0.2, random_state=42)\n",
        "\n",
        "# 1. Train an SVM Classifier\n",
        "svm_classifier = svm.SVC()\n",
        "svm_classifier.fit(X_train, y_train)\n",
        "y_pred_svm = svm_classifier.predict(X_test)\n",
        "accuracy_svm = metrics.accuracy_score(y_test, y_pred_svm)\n",
        "print(\"SVM Classifier Accuracy:\", accuracy_svm)\n",
        "print(\"SVM Classification Report:\")\n",
        "print(metrics.classification_report(y_test, y_pred_svm))\n",
        "print(\"SVM Confusion Matrix:\")\n",
        "print(metrics.confusion_matrix(y_test, y_pred_svm))\n",
        "\n",
        "print(\"-\" * 30)\n",
        "\n",
        "# 2. Train a Gaussian Naïve Bayes Classifier\n",
        "nb_classifier = GaussianNB()\n",
        "nb_classifier.fit(X_train, y_train)\n",
        "y_pred_nb = nb_classifier.predict(X_test)\n",
        "accuracy_nb = metrics.accuracy_score(y_test, y_pred_nb)\n",
        "print(\"Naïve Bayes Classifier Accuracy:\", accuracy_nb)\n",
        "print(\"Naïve Bayes Classification Report:\")\n",
        "print(metrics.classification_report(y_test, y_pred_nb))\n",
        "print(\"Naïve Bayes Confusion Matrix:\")\n",
        "print(metrics.confusion_matrix(y_test, y_pred_nb))\n",
        "\n",
        "print(\"-\" * 30)\n",
        "\n",
        "# Compare accuracies\n",
        "print(\"Comparison of Accuracies:\")\n",
        "print(f\"SVM Accuracy: {accuracy_svm:.4f}\")\n",
        "print(f\"Naïve Bayes Accuracy: {accuracy_nb:.4f}\")\n",
        "\n",
        "if accuracy_svm > accuracy_nb:\n",
        "  print(\"SVM Classifier performed better.\")\n",
        "elif accuracy_nb > accuracy_svm:\n",
        "  print(\"Naïve Bayes Classifier performed better.\")\n",
        "else:\n",
        "  print(\"Both classifiers performed equally well.\")"
      ],
      "metadata": {
        "colab": {
          "base_uri": "https://localhost:8080/"
        },
        "id": "N0oJfY5pKSYa",
        "outputId": "00b401ea-0950-4f55-ac57-86bd0c1d8071"
      },
      "execution_count": 21,
      "outputs": [
        {
          "output_type": "stream",
          "name": "stdout",
          "text": [
            "SVM Classifier Accuracy: 1.0\n",
            "SVM Classification Report:\n",
            "              precision    recall  f1-score   support\n",
            "\n",
            "           0       1.00      1.00      1.00        10\n",
            "           1       1.00      1.00      1.00         9\n",
            "           2       1.00      1.00      1.00        11\n",
            "\n",
            "    accuracy                           1.00        30\n",
            "   macro avg       1.00      1.00      1.00        30\n",
            "weighted avg       1.00      1.00      1.00        30\n",
            "\n",
            "SVM Confusion Matrix:\n",
            "[[10  0  0]\n",
            " [ 0  9  0]\n",
            " [ 0  0 11]]\n",
            "------------------------------\n",
            "Naïve Bayes Classifier Accuracy: 1.0\n",
            "Naïve Bayes Classification Report:\n",
            "              precision    recall  f1-score   support\n",
            "\n",
            "           0       1.00      1.00      1.00        10\n",
            "           1       1.00      1.00      1.00         9\n",
            "           2       1.00      1.00      1.00        11\n",
            "\n",
            "    accuracy                           1.00        30\n",
            "   macro avg       1.00      1.00      1.00        30\n",
            "weighted avg       1.00      1.00      1.00        30\n",
            "\n",
            "Naïve Bayes Confusion Matrix:\n",
            "[[10  0  0]\n",
            " [ 0  9  0]\n",
            " [ 0  0 11]]\n",
            "------------------------------\n",
            "Comparison of Accuracies:\n",
            "SVM Accuracy: 1.0000\n",
            "Naïve Bayes Accuracy: 1.0000\n",
            "Both classifiers performed equally well.\n"
          ]
        }
      ]
    },
    {
      "cell_type": "markdown",
      "source": [
        "15. Write a Python program to perform feature selection before training a Naïve Bayes classifier and compare\n",
        "results."
      ],
      "metadata": {
        "id": "gFFexYcwKfCG"
      }
    },
    {
      "cell_type": "code",
      "source": [
        "from sklearn.feature_selection import SelectKBest, chi2\n",
        "\n",
        "# Load a dataset (e.g., Iris dataset)\n",
        "iris = datasets.load_iris()\n",
        "X = iris.data\n",
        "y = iris.target\n",
        "\n",
        "# Split the dataset into training and testing sets\n",
        "X_train, X_test, y_train, y_test = train_test_split(X, y, test_size=0.2, random_state=42)\n",
        "\n",
        "# --- Train Naïve Bayes without Feature Selection ---\n",
        "print(\"Training Naïve Bayes without Feature Selection:\")\n",
        "nb_no_fs = GaussianNB()\n",
        "nb_no_fs.fit(X_train, y_train)\n",
        "y_pred_no_fs = nb_no_fs.predict(X_test)\n",
        "accuracy_no_fs = metrics.accuracy_score(y_test, y_pred_no_fs)\n",
        "print(\"Accuracy (No Feature Selection):\", accuracy_no_fs)\n",
        "print(\"-\" * 30)\n",
        "\n",
        "# --- Train Naïve Bayes with Feature Selection ---\n",
        "\n",
        "# Apply feature selection using SelectKBest with chi-squared test\n",
        "# Select the top k features (e.g., k=2 for Iris dataset)\n",
        "k_features = 2\n",
        "selector = SelectKBest(chi2, k=k_features)\n",
        "\n",
        "# Fit the selector on the training data and transform both training and testing data\n",
        "# chi2 requires non-negative data, Iris data is non-negative.\n",
        "X_train_selected = selector.fit_transform(X_train, y_train)\n",
        "X_test_selected = selector.transform(X_test)\n",
        "\n",
        "print(f\"Training Naïve Bayes with Feature Selection (k={k_features}):\")\n",
        "nb_with_fs = GaussianNB()\n",
        "nb_with_fs.fit(X_train_selected, y_train)\n",
        "y_pred_with_fs = nb_with_fs.predict(X_test_selected)\n",
        "accuracy_with_fs = metrics.accuracy_score(y_test, y_pred_with_fs)\n",
        "print(\"Accuracy (With Feature Selection):\", accuracy_with_fs)\n",
        "print(\"-\" * 30)\n",
        "\n",
        "\n",
        "# --- Compare Results ---\n",
        "print(\"Comparison of Accuracies:\")\n",
        "print(f\"Accuracy (No Feature Selection): {accuracy_no_fs:.4f}\")\n",
        "print(f\"Accuracy (With Feature Selection): {accuracy_with_fs:.4f}\")\n",
        "\n",
        "if accuracy_with_fs > accuracy_no_fs:\n",
        "    print(\"Feature selection improved the accuracy of the Naïve Bayes model.\")\n",
        "elif accuracy_no_fs > accuracy_with_fs:\n",
        "    print(\"Feature selection did not improve the accuracy (or slightly decreased).\")\n",
        "else:\n",
        "    print(\"Feature selection did not affect the accuracy.\")\n",
        "\n",
        "# You can experiment with different feature selection methods and values of k.\n",
        "# For different datasets, you might need different feature selection methods (e.g., mutual_info_classif for non-negative data).\n"
      ],
      "metadata": {
        "colab": {
          "base_uri": "https://localhost:8080/"
        },
        "id": "1zV3Vi6YKi95",
        "outputId": "a41e2c53-a97f-4139-8a25-3bab289acaf6"
      },
      "execution_count": 22,
      "outputs": [
        {
          "output_type": "stream",
          "name": "stdout",
          "text": [
            "Training Naïve Bayes without Feature Selection:\n",
            "Accuracy (No Feature Selection): 1.0\n",
            "------------------------------\n",
            "Training Naïve Bayes with Feature Selection (k=2):\n",
            "Accuracy (With Feature Selection): 1.0\n",
            "------------------------------\n",
            "Comparison of Accuracies:\n",
            "Accuracy (No Feature Selection): 1.0000\n",
            "Accuracy (With Feature Selection): 1.0000\n",
            "Feature selection did not affect the accuracy.\n"
          ]
        }
      ]
    },
    {
      "cell_type": "markdown",
      "source": [
        "16. Write a Python program to train an SVM Classifier using One-vs-Rest (OvR) and One-vs-One (OvO)\n",
        "strategies on the Wine dataset and compare their accuracy."
      ],
      "metadata": {
        "id": "ZbEYCMzBKy5t"
      }
    },
    {
      "cell_type": "code",
      "source": [
        "from sklearn import datasets\n",
        "from sklearn.model_selection import train_test_split\n",
        "from sklearn import svm\n",
        "from sklearn import metrics\n",
        "from sklearn.multiclass import OneVsRestClassifier, OneVsOneClassifier\n",
        "\n",
        "# Load the Wine dataset\n",
        "wine = datasets.load_wine()\n",
        "X = wine.data\n",
        "y = wine.target\n",
        "\n",
        "# Split the dataset into training and testing sets\n",
        "X_train, X_test, y_train, y_test = train_test_split(X, y, test_size=0.2, random_state=42)\n",
        "\n",
        "# Create an SVM base estimator\n",
        "base_estimator = svm.SVC(kernel='linear', probability=True) # Using probability=True for potential future use, though not strictly needed for accuracy\n",
        "\n",
        "# Train an SVM Classifier with One-vs-Rest (OvR) strategy\n",
        "print(\"Training SVM with One-vs-Rest strategy:\")\n",
        "ovr_classifier = OneVsRestClassifier(base_estimator)\n",
        "ovr_classifier.fit(X_train, y_train)\n",
        "y_pred_ovr = ovr_classifier.predict(X_test)\n",
        "accuracy_ovr = metrics.accuracy_score(y_test, y_pred_ovr)\n",
        "print(\"Accuracy (One-vs-Rest):\", accuracy_ovr)\n",
        "print(\"-\" * 30)\n",
        "\n",
        "# Train an SVM Classifier with One-vs-One (OvO) strategy\n",
        "print(\"Training SVM with One-vs-One strategy:\")\n",
        "ovo_classifier = OneVsOneClassifier(base_estimator)\n",
        "ovo_classifier.fit(X_train, y_train)\n",
        "y_pred_ovo = ovo_classifier.predict(X_test)\n",
        "accuracy_ovo = metrics.accuracy_score(y_test, y_pred_ovo)\n",
        "print(\"Accuracy (One-vs-One):\", accuracy_ovo)\n",
        "print(\"-\" * 30)\n",
        "\n",
        "# Compare the accuracies\n",
        "print(\"Comparison of Accuracies:\")\n",
        "print(f\"Accuracy (One-vs-Rest): {accuracy_ovr:.4f}\")\n",
        "print(f\"Accuracy (One-vs-One): {accuracy_ovo:.4f}\")\n",
        "\n",
        "if accuracy_ovr > accuracy_ovo:\n",
        "  print(\"One-vs-Rest strategy performed better.\")\n",
        "elif accuracy_ovo > accuracy_ovr:\n",
        "  print(\"One-vs-One strategy performed better.\")\n",
        "else:\n",
        "  print(\"Both strategies performed equally well.\")"
      ],
      "metadata": {
        "colab": {
          "base_uri": "https://localhost:8080/"
        },
        "id": "uFF3PNzRK3-B",
        "outputId": "9729889f-8f5d-490a-afe2-d5b74f3e7eb0"
      },
      "execution_count": 23,
      "outputs": [
        {
          "output_type": "stream",
          "name": "stdout",
          "text": [
            "Training SVM with One-vs-Rest strategy:\n",
            "Accuracy (One-vs-Rest): 1.0\n",
            "------------------------------\n",
            "Training SVM with One-vs-One strategy:\n",
            "Accuracy (One-vs-One): 1.0\n",
            "------------------------------\n",
            "Comparison of Accuracies:\n",
            "Accuracy (One-vs-Rest): 1.0000\n",
            "Accuracy (One-vs-One): 1.0000\n",
            "Both strategies performed equally well.\n"
          ]
        }
      ]
    },
    {
      "cell_type": "markdown",
      "source": [
        "17. Write a Python program to train an SVM Classifier using Linear, Polynomial, and RBF kernels on the Breast\n",
        "Cancer dataset and compare their accuracy."
      ],
      "metadata": {
        "id": "tebI28ELLJVY"
      }
    },
    {
      "cell_type": "code",
      "source": [
        "# Load the Breast Cancer dataset\n",
        "breast_cancer = datasets.load_breast_cancer()\n",
        "X = breast_cancer.data\n",
        "y = breast_cancer.target\n",
        "\n",
        "# Split the dataset into training and testing sets\n",
        "X_train, X_test, y_train, y_test = train_test_split(X, y, test_size=0.2, random_state=42)\n",
        "\n",
        "# Standardize features\n",
        "scaler = StandardScaler()\n",
        "X_train_scaled = scaler.fit_transform(X_train)\n",
        "X_test_scaled = scaler.transform(X_test)\n",
        "\n",
        "# Create SVM classifiers with different kernels\n",
        "svm_linear = svm.SVC(kernel='linear', C=1)\n",
        "svm_poly = svm.SVC(kernel='poly', degree=3, C=1) # You might tune degree and C\n",
        "svm_rbf = svm.SVC(kernel='rbf', C=1, gamma='scale') # You might tune gamma and C\n",
        "\n",
        "# Train the classifiers using the scaled training data\n",
        "print(\"Training SVM with Linear kernel...\")\n",
        "svm_linear.fit(X_train_scaled, y_train)\n",
        "print(\"Training SVM with Polynomial kernel...\")\n",
        "svm_poly.fit(X_train_scaled, y_train)\n",
        "print(\"Training SVM with RBF kernel...\")\n",
        "svm_rbf.fit(X_train_scaled, y_train)\n",
        "\n",
        "# Make predictions on the scaled test data\n",
        "y_pred_linear = svm_linear.predict(X_test_scaled)\n",
        "y_pred_poly = svm_poly.predict(X_test_scaled)\n",
        "y_pred_rbf = svm_rbf.predict(X_test_scaled)\n",
        "\n",
        "# Evaluate the accuracy of the classifiers\n",
        "accuracy_linear = metrics.accuracy_score(y_test, y_pred_linear)\n",
        "accuracy_poly = metrics.accuracy_score(y_test, y_pred_poly)\n",
        "accuracy_rbf = metrics.accuracy_score(y_test, y_pred_rbf)\n",
        "\n",
        "# Print the accuracies\n",
        "print(\"\\nAccuracy (Linear Kernel):\", accuracy_linear)\n",
        "print(\"Accuracy (Polynomial Kernel):\", accuracy_poly)\n",
        "print(\"Accuracy (RBF Kernel):\", accuracy_rbf)\n",
        "\n",
        "# Compare the accuracies\n",
        "print(\"\\nComparison of Accuracies:\")\n",
        "print(f\"Linear Kernel Accuracy: {accuracy_linear:.4f}\")\n",
        "print(f\"Polynomial Kernel Accuracy: {accuracy_poly:.4f}\")\n",
        "print(f\"RBF Kernel Accuracy: {accuracy_rbf:.4f}\")\n",
        "\n",
        "best_accuracy = max(accuracy_linear, accuracy_poly, accuracy_rbf)\n",
        "\n",
        "if best_accuracy == accuracy_linear:\n",
        "    print(\"Linear kernel performed the best.\")\n",
        "elif best_accuracy == accuracy_poly:\n",
        "    print(\"Polynomial kernel performed the best.\")\n",
        "else:\n",
        "    print(\"RBF kernel performed the best.\")\n",
        "\n",
        "# Optional: Print classification reports and confusion matrices\n",
        "print(\"\\nClassification Report (Linear Kernel):\")\n",
        "print(metrics.classification_report(y_test, y_pred_linear))\n",
        "\n",
        "print(\"\\nClassification Report (Polynomial Kernel):\")\n",
        "print(metrics.classification_report(y_test, y_pred_poly))\n",
        "\n",
        "print(\"\\nClassification Report (RBF Kernel):\")\n",
        "print(metrics.classification_report(y_test, y_pred_rbf))\n",
        "\n",
        "print(\"\\nConfusion Matrix (Linear Kernel):\")\n",
        "print(metrics.confusion_matrix(y_test, y_pred_linear))\n",
        "\n",
        "print(\"\\nConfusion Matrix (Polynomial Kernel):\")\n",
        "print(metrics.confusion_matrix(y_test, y_pred_poly))\n",
        "\n",
        "print(\"\\nConfusion Matrix (RBF Kernel):\")\n",
        "print(metrics.confusion_matrix(y_test, y_pred_rbf))"
      ],
      "metadata": {
        "colab": {
          "base_uri": "https://localhost:8080/"
        },
        "id": "qg5iMp-MLNyX",
        "outputId": "b8219b77-a7f2-4a73-dcec-78b863ef3f83"
      },
      "execution_count": 24,
      "outputs": [
        {
          "output_type": "stream",
          "name": "stdout",
          "text": [
            "Training SVM with Linear kernel...\n",
            "Training SVM with Polynomial kernel...\n",
            "Training SVM with RBF kernel...\n",
            "\n",
            "Accuracy (Linear Kernel): 0.956140350877193\n",
            "Accuracy (Polynomial Kernel): 0.868421052631579\n",
            "Accuracy (RBF Kernel): 0.9824561403508771\n",
            "\n",
            "Comparison of Accuracies:\n",
            "Linear Kernel Accuracy: 0.9561\n",
            "Polynomial Kernel Accuracy: 0.8684\n",
            "RBF Kernel Accuracy: 0.9825\n",
            "RBF kernel performed the best.\n",
            "\n",
            "Classification Report (Linear Kernel):\n",
            "              precision    recall  f1-score   support\n",
            "\n",
            "           0       0.93      0.95      0.94        43\n",
            "           1       0.97      0.96      0.96        71\n",
            "\n",
            "    accuracy                           0.96       114\n",
            "   macro avg       0.95      0.96      0.95       114\n",
            "weighted avg       0.96      0.96      0.96       114\n",
            "\n",
            "\n",
            "Classification Report (Polynomial Kernel):\n",
            "              precision    recall  f1-score   support\n",
            "\n",
            "           0       1.00      0.65      0.79        43\n",
            "           1       0.83      1.00      0.90        71\n",
            "\n",
            "    accuracy                           0.87       114\n",
            "   macro avg       0.91      0.83      0.85       114\n",
            "weighted avg       0.89      0.87      0.86       114\n",
            "\n",
            "\n",
            "Classification Report (RBF Kernel):\n",
            "              precision    recall  f1-score   support\n",
            "\n",
            "           0       1.00      0.95      0.98        43\n",
            "           1       0.97      1.00      0.99        71\n",
            "\n",
            "    accuracy                           0.98       114\n",
            "   macro avg       0.99      0.98      0.98       114\n",
            "weighted avg       0.98      0.98      0.98       114\n",
            "\n",
            "\n",
            "Confusion Matrix (Linear Kernel):\n",
            "[[41  2]\n",
            " [ 3 68]]\n",
            "\n",
            "Confusion Matrix (Polynomial Kernel):\n",
            "[[28 15]\n",
            " [ 0 71]]\n",
            "\n",
            "Confusion Matrix (RBF Kernel):\n",
            "[[41  2]\n",
            " [ 0 71]]\n"
          ]
        }
      ]
    },
    {
      "cell_type": "markdown",
      "source": [
        "18. Write a Python program to train an SVM Classifier using Stratified K-Fold Cross-Validation and compute the\n",
        "average accuracy."
      ],
      "metadata": {
        "id": "WLOiRjHMLbN3"
      }
    },
    {
      "cell_type": "code",
      "source": [
        "from sklearn.model_selection import StratifiedKFold\n",
        "from sklearn.base import clone\n",
        "\n",
        "# Load the Iris dataset\n",
        "iris = datasets.load_iris()\n",
        "X = iris.data\n",
        "y = iris.target\n",
        "\n",
        "# Create an SVM classifier\n",
        "svm_classifier = svm.SVC(kernel='linear', C=1, random_state=42)\n",
        "\n",
        "# Define the number of splits for Stratified K-Fold\n",
        "n_splits = 5\n",
        "skf = StratifiedKFold(n_splits=n_splits, shuffle=True, random_state=42)\n",
        "\n",
        "# List to store accuracies from each fold\n",
        "accuracies = []\n",
        "\n",
        "print(f\"Performing Stratified K-Fold Cross-Validation with {n_splits} splits...\")\n",
        "\n",
        "# Iterate over each fold\n",
        "for fold, (train_index, test_index) in enumerate(skf.split(X, y)):\n",
        "    print(f\"  Fold {fold + 1}/{n_splits}\")\n",
        "\n",
        "    # Split data into training and testing sets for the current fold\n",
        "    X_train, X_test = X[train_index], X[test_index]\n",
        "    y_train, y_test = y[train_index], y[test_index]\n",
        "\n",
        "    # Clone the classifier for each fold to ensure a fresh start\n",
        "    classifier = clone(svm_classifier)\n",
        "\n",
        "    # Train the classifier on the training data for the current fold\n",
        "    classifier.fit(X_train, y_train)\n",
        "\n",
        "    # Make predictions on the test data for the current fold\n",
        "    y_pred = classifier.predict(X_test)\n",
        "\n",
        "    # Evaluate the accuracy for the current fold\n",
        "    accuracy = metrics.accuracy_score(y_test, y_pred)\n",
        "    accuracies.append(accuracy)\n",
        "    print(f\"    Accuracy: {accuracy:.4f}\")\n",
        "\n",
        "# Compute the average accuracy across all folds\n",
        "average_accuracy = np.mean(accuracies)\n",
        "print(\"\\nAverage Accuracy (Stratified K-Fold Cross-Validation):\", average_accuracy)"
      ],
      "metadata": {
        "colab": {
          "base_uri": "https://localhost:8080/"
        },
        "id": "FfUlbx9TLfZd",
        "outputId": "e5401786-8da7-40a2-a8f5-7591bcbd4632"
      },
      "execution_count": 25,
      "outputs": [
        {
          "output_type": "stream",
          "name": "stdout",
          "text": [
            "Performing Stratified K-Fold Cross-Validation with 5 splits...\n",
            "  Fold 1/5\n",
            "    Accuracy: 1.0000\n",
            "  Fold 2/5\n",
            "    Accuracy: 1.0000\n",
            "  Fold 3/5\n",
            "    Accuracy: 0.9333\n",
            "  Fold 4/5\n",
            "    Accuracy: 1.0000\n",
            "  Fold 5/5\n",
            "    Accuracy: 1.0000\n",
            "\n",
            "Average Accuracy (Stratified K-Fold Cross-Validation): 0.9866666666666667\n"
          ]
        }
      ]
    },
    {
      "cell_type": "markdown",
      "source": [
        "19. Write a Python program to train a Naïve Bayes classifier using different prior probabilities and compare\n",
        "performance."
      ],
      "metadata": {
        "id": "j1bSHCuILpLk"
      }
    },
    {
      "cell_type": "code",
      "source": [
        "# Load the Iris dataset\n",
        "iris = datasets.load_iris()\n",
        "X = iris.data\n",
        "y = iris.target\n",
        "\n",
        "# Split the dataset into training and testing sets\n",
        "X_train, X_test, y_train, y_test = train_test_split(X, y, test_size=0.2, random_state=42)\n",
        "\n",
        "# Calculate the empirical prior probabilities from the training data\n",
        "class_counts = np.bincount(y_train)\n",
        "empirical_priors = class_counts / len(y_train)\n",
        "\n",
        "print(\"Empirical Prior Probabilities:\", empirical_priors)\n",
        "\n",
        "# --- Train Naïve Bayes with empirical prior probabilities (default) ---\n",
        "print(\"\\nTraining Naïve Bayes with Empirical Prior Probabilities:\")\n",
        "nb_empirical_prior = GaussianNB()\n",
        "nb_empirical_prior.fit(X_train, y_train)\n",
        "y_pred_empirical = nb_empirical_prior.predict(X_test)\n",
        "accuracy_empirical = metrics.accuracy_score(y_test, y_pred_empirical)\n",
        "print(\"Accuracy (Empirical Priors):\", accuracy_empirical)\n",
        "\n",
        "# --- Train Naïve Bayes with different custom prior probabilities ---\n",
        "# Example: Give more weight to class 0\n",
        "custom_priors_biased = [0.5, 0.3, 0.2] # Must sum to 1\n",
        "\n",
        "print(\"\\nTraining Naïve Bayes with Custom Prior Probabilities (Biased towards Class 0):\")\n",
        "try:\n",
        "  nb_custom_prior_biased = GaussianNB(priors=custom_priors_biased)\n",
        "  nb_custom_prior_biased.fit(X_train, y_train)\n",
        "  y_pred_biased = nb_custom_prior_biased.predict(X_test)\n",
        "  accuracy_biased = metrics.accuracy_score(y_test, y_pred_biased)\n",
        "  print(\"Accuracy (Custom Priors - Biased):\", accuracy_biased)\n",
        "except ValueError as e:\n",
        "  print(f\"Error training with custom priors: {e}\")\n",
        "  print(\"Make sure the number of priors matches the number of classes and they sum to 1.\")\n",
        "\n",
        "\n",
        "# Example: Uniform prior probabilities (if applicable, e.g., for balancing)\n",
        "# For Iris (3 classes), uniform priors would be [1/3, 1/3, 1/3]\n",
        "uniform_priors = [1/3, 1/3, 1/3]\n",
        "\n",
        "print(\"\\nTraining Naïve Bayes with Uniform Prior Probabilities:\")\n",
        "try:\n",
        "  nb_uniform_prior = GaussianNB(priors=uniform_priors)\n",
        "  nb_uniform_prior.fit(X_train, y_train)\n",
        "  y_pred_uniform = nb_uniform_prior.predict(X_test)\n",
        "  accuracy_uniform = metrics.accuracy_score(y_test, y_pred_uniform)\n",
        "  print(\"Accuracy (Uniform Priors):\", accuracy_uniform)\n",
        "except ValueError as e:\n",
        "  print(f\"Error training with uniform priors: {e}\")\n",
        "  print(\"Make sure the number of priors matches the number of classes and they sum to 1.\")\n",
        "\n",
        "\n",
        "# --- Compare Performance ---\n",
        "print(\"\\nComparison of Accuracies with Different Priors:\")\n",
        "print(f\"Accuracy (Empirical Priors): {accuracy_empirical:.4f}\")\n",
        "if 'accuracy_biased' in locals():\n",
        "    print(f\"Accuracy (Custom Priors - Biased): {accuracy_biased:.4f}\")\n",
        "if 'accuracy_uniform' in locals():\n",
        "    print(f\"Accuracy (Uniform Priors): {accuracy_uniform:.4f}\")\n",
        "\n",
        "# You can further compare performance using other metrics like precision, recall, F1-score,\n",
        "# especially if evaluating the impact on specific classes."
      ],
      "metadata": {
        "colab": {
          "base_uri": "https://localhost:8080/"
        },
        "id": "buMRL5fbLtT_",
        "outputId": "ece95763-eb3c-47ba-eafc-a11410beb046"
      },
      "execution_count": 26,
      "outputs": [
        {
          "output_type": "stream",
          "name": "stdout",
          "text": [
            "Empirical Prior Probabilities: [0.33333333 0.34166667 0.325     ]\n",
            "\n",
            "Training Naïve Bayes with Empirical Prior Probabilities:\n",
            "Accuracy (Empirical Priors): 1.0\n",
            "\n",
            "Training Naïve Bayes with Custom Prior Probabilities (Biased towards Class 0):\n",
            "Accuracy (Custom Priors - Biased): 1.0\n",
            "\n",
            "Training Naïve Bayes with Uniform Prior Probabilities:\n",
            "Accuracy (Uniform Priors): 1.0\n",
            "\n",
            "Comparison of Accuracies with Different Priors:\n",
            "Accuracy (Empirical Priors): 1.0000\n",
            "Accuracy (Custom Priors - Biased): 1.0000\n",
            "Accuracy (Uniform Priors): 1.0000\n"
          ]
        }
      ]
    },
    {
      "cell_type": "markdown",
      "source": [
        "20. Write a Python program to perform Recursive Feature Elimination (RFE) before training an SVM Classifier and\n",
        "compare accuracy."
      ],
      "metadata": {
        "id": "86p17YgxL4vA"
      }
    },
    {
      "cell_type": "code",
      "source": [
        "from sklearn.feature_selection import RFE\n",
        "\n",
        "# Load the Iris dataset\n",
        "iris = datasets.load_iris()\n",
        "X = iris.data\n",
        "y = iris.target\n",
        "\n",
        "# Split the dataset into training and testing sets\n",
        "X_train, X_test, y_train, y_test = train_test_split(X, y, test_size=0.2, random_state=42)\n",
        "\n",
        "# --- Train SVM without RFE ---\n",
        "print(\"Training SVM without RFE:\")\n",
        "svm_no_rfe = svm.SVC(kernel='linear', C=1, random_state=42)\n",
        "svm_no_rfe.fit(X_train, y_train)\n",
        "y_pred_no_rfe = svm_no_rfe.predict(X_test)\n",
        "accuracy_no_rfe = metrics.accuracy_score(y_test, y_pred_no_rfe)\n",
        "print(\"Accuracy (No RFE):\", accuracy_no_rfe)\n",
        "print(\"-\" * 30)\n",
        "\n",
        "# --- Train SVM with RFE ---\n",
        "\n",
        "# Create a base estimator for RFE (e.g., linear SVM)\n",
        "estimator = svm.SVC(kernel='linear', C=1)\n",
        "\n",
        "# Create RFE object and select the desired number of features\n",
        "# Let's select the top 2 features (adjust as needed for your dataset)\n",
        "n_features_to_select = 2\n",
        "rfe = RFE(estimator=estimator, n_features_to_select=n_features_to_select, step=1)\n",
        "\n",
        "# Fit RFE on the training data to select features\n",
        "rfe.fit(X_train, y_train)\n",
        "\n",
        "# Transform the training and testing data to include only the selected features\n",
        "X_train_rfe = rfe.transform(X_train)\n",
        "X_test_rfe = rfe.transform(X_test)\n",
        "\n",
        "print(f\"Training SVM with RFE (selected {n_features_to_select} features):\")\n",
        "\n",
        "# Train an SVM classifier on the RFE-selected features\n",
        "svm_with_rfe = svm.SVC(kernel='linear', C=1, random_state=42) # Use the same kernel and C for comparison\n",
        "svm_with_rfe.fit(X_train_rfe, y_train)\n",
        "\n",
        "# Make predictions on the RFE-transformed test data\n",
        "y_pred_with_rfe = svm_with_rfe.predict(X_test_rfe)\n",
        "\n",
        "# Evaluate the accuracy\n",
        "accuracy_with_rfe = metrics.accuracy_score(y_test, y_pred_with_rfe)\n",
        "print(\"Accuracy (With RFE):\", accuracy_with_rfe)\n",
        "print(\"-\" * 30)\n",
        "\n",
        "# --- Compare Results ---\n",
        "print(\"Comparison of Accuracies:\")\n",
        "print(f\"Accuracy (No RFE): {accuracy_no_rfe:.4f}\")\n",
        "print(f\"Accuracy (With RFE): {accuracy_with_rfe:.4f}\")\n",
        "\n",
        "if accuracy_with_rfe > accuracy_no_rfe:\n",
        "    print(f\"RFE improved the accuracy of the SVM model by selecting {n_features_to_select} features.\")\n",
        "elif accuracy_no_rfe > accuracy_with_rfe:\n",
        "    print(\"RFE did not improve the accuracy (or slightly decreased).\")\n",
        "else:\n",
        "    print(\"RFE did not affect the accuracy.\")\n",
        "\n",
        "# Optional: Print the ranking of features by RFE\n",
        "print(\"\\nFeature Ranking from RFE:\")\n",
        "print(\"Features ranked from 1 (most important) to n (least important).\")\n",
        "print(f\"Selected Features Mask: {rfe.support_}\")\n",
        "print(f\"Feature Ranking: {rfe.ranking_}\")\n",
        "print(\"Original feature names/indices:\")\n",
        "iris.feature_names"
      ],
      "metadata": {
        "colab": {
          "base_uri": "https://localhost:8080/"
        },
        "id": "WhI3VHXuL9fp",
        "outputId": "c5596193-8cbf-4689-ed31-d04b9c3a84f4"
      },
      "execution_count": 27,
      "outputs": [
        {
          "output_type": "stream",
          "name": "stdout",
          "text": [
            "Training SVM without RFE:\n",
            "Accuracy (No RFE): 1.0\n",
            "------------------------------\n",
            "Training SVM with RFE (selected 2 features):\n",
            "Accuracy (With RFE): 1.0\n",
            "------------------------------\n",
            "Comparison of Accuracies:\n",
            "Accuracy (No RFE): 1.0000\n",
            "Accuracy (With RFE): 1.0000\n",
            "RFE did not affect the accuracy.\n",
            "\n",
            "Feature Ranking from RFE:\n",
            "Features ranked from 1 (most important) to n (least important).\n",
            "Selected Features Mask: [False False  True  True]\n",
            "Feature Ranking: [3 2 1 1]\n",
            "Original feature names/indices:\n"
          ]
        },
        {
          "output_type": "execute_result",
          "data": {
            "text/plain": [
              "['sepal length (cm)',\n",
              " 'sepal width (cm)',\n",
              " 'petal length (cm)',\n",
              " 'petal width (cm)']"
            ]
          },
          "metadata": {},
          "execution_count": 27
        }
      ]
    },
    {
      "cell_type": "markdown",
      "source": [
        "21. Write a Python program to train an SVM Classifier and evaluate its performance using Precision, Recall, and\n",
        "F1-Score instead of accuracy."
      ],
      "metadata": {
        "id": "aejOBMYSMISg"
      }
    },
    {
      "cell_type": "code",
      "source": [
        "# Load the Iris dataset\n",
        "iris = datasets.load_iris()\n",
        "X = iris.data\n",
        "y = iris.target\n",
        "\n",
        "# Split the dataset into training and testing sets\n",
        "X_train, X_test, y_train, y_test = train_test_split(X, y, test_size=0.2, random_state=42)\n",
        "\n",
        "# Create an SVM classifier\n",
        "classifier = svm.SVC(random_state=42)\n",
        "\n",
        "# Train the classifier using the training data\n",
        "classifier.fit(X_train, y_train)\n",
        "\n",
        "# Make predictions on the test data\n",
        "y_pred = classifier.predict(X_test)\n",
        "\n",
        "# Evaluate the performance using Precision, Recall, and F1-Score\n",
        "precision = metrics.precision_score(y_test, y_pred, average='weighted') # Use 'weighted' for multi-class\n",
        "recall = metrics.recall_score(y_test, y_pred, average='weighted')     # Use 'weighted' for multi-class\n",
        "f1_score = metrics.f1_score(y_test, y_pred, average='weighted')      # Use 'weighted' for multi-class\n",
        "\n",
        "print(\"Precision:\", precision)\n",
        "print(\"Recall:\", recall)\n",
        "print(\"F1-Score:\", f1_score)\n",
        "\n",
        "# You can also print the full classification report which includes these metrics per class\n",
        "print(\"\\nClassification Report:\")\n",
        "print(metrics.classification_report(y_test, y_pred))\n",
        "\n",
        "# Confusion Matrix is also useful for understanding performance\n",
        "print(\"\\nConfusion Matrix:\")\n",
        "print(metrics.confusion_matrix(y_test, y_pred))"
      ],
      "metadata": {
        "colab": {
          "base_uri": "https://localhost:8080/"
        },
        "id": "kd3oXP5KMM0g",
        "outputId": "3f70e507-a47a-411e-93b9-d8acacc26b82"
      },
      "execution_count": 28,
      "outputs": [
        {
          "output_type": "stream",
          "name": "stdout",
          "text": [
            "Precision: 1.0\n",
            "Recall: 1.0\n",
            "F1-Score: 1.0\n",
            "\n",
            "Classification Report:\n",
            "              precision    recall  f1-score   support\n",
            "\n",
            "           0       1.00      1.00      1.00        10\n",
            "           1       1.00      1.00      1.00         9\n",
            "           2       1.00      1.00      1.00        11\n",
            "\n",
            "    accuracy                           1.00        30\n",
            "   macro avg       1.00      1.00      1.00        30\n",
            "weighted avg       1.00      1.00      1.00        30\n",
            "\n",
            "\n",
            "Confusion Matrix:\n",
            "[[10  0  0]\n",
            " [ 0  9  0]\n",
            " [ 0  0 11]]\n"
          ]
        }
      ]
    },
    {
      "cell_type": "markdown",
      "source": [
        "22. Write a Python program to train a Naïve Bayes Classifier and evaluate its performance using Log Loss\n",
        "(Cross-Entropy Loss)."
      ],
      "metadata": {
        "id": "zF-nePmoMVLk"
      }
    },
    {
      "cell_type": "code",
      "source": [
        "# Load a dataset (e.g., Iris dataset)\n",
        "iris = datasets.load_iris()\n",
        "X = iris.data\n",
        "y = iris.target\n",
        "\n",
        "# Split the dataset into training and testing sets\n",
        "X_train, X_test, y_train, y_test = train_test_split(X, y, test_size=0.2, random_state=42)\n",
        "\n",
        "# Create a Gaussian Naïve Bayes classifier\n",
        "nb_classifier = GaussianNB()\n",
        "\n",
        "# Train the classifier using the training data\n",
        "nb_classifier.fit(X_train, y_train)\n",
        "\n",
        "# To compute Log Loss, we need predicted probabilities\n",
        "# Naïve Bayes models in scikit-learn have a predict_proba method\n",
        "y_pred_proba = nb_classifier.predict_proba(X_test)\n",
        "\n",
        "# Evaluate the performance using Log Loss (Cross-Entropy Loss)\n",
        "# Log loss requires the true labels and the predicted probabilities for each class\n",
        "log_loss = metrics.log_loss(y_test, y_pred_proba)\n",
        "\n",
        "print(\"Log Loss (Cross-Entropy Loss):\", log_loss)\n",
        "\n",
        "# Optional: Also evaluate accuracy for context\n",
        "y_pred = nb_classifier.predict(X_test)\n",
        "accuracy = metrics.accuracy_score(y_test, y_pred)\n",
        "print(\"Accuracy:\", accuracy)\n",
        "\n",
        "# Print classification report and confusion matrix for a complete picture\n",
        "print(\"\\nClassification Report:\")\n",
        "print(metrics.classification_report(y_test, y_pred))\n",
        "\n",
        "print(\"\\nConfusion Matrix:\")\n",
        "print(metrics.confusion_matrix(y_test, y_pred))"
      ],
      "metadata": {
        "colab": {
          "base_uri": "https://localhost:8080/"
        },
        "id": "g82BCemjMaIo",
        "outputId": "8377fbbe-28bf-4139-d00e-68d4fa37562c"
      },
      "execution_count": 29,
      "outputs": [
        {
          "output_type": "stream",
          "name": "stdout",
          "text": [
            "Log Loss (Cross-Entropy Loss): 0.02625269787231071\n",
            "Accuracy: 1.0\n",
            "\n",
            "Classification Report:\n",
            "              precision    recall  f1-score   support\n",
            "\n",
            "           0       1.00      1.00      1.00        10\n",
            "           1       1.00      1.00      1.00         9\n",
            "           2       1.00      1.00      1.00        11\n",
            "\n",
            "    accuracy                           1.00        30\n",
            "   macro avg       1.00      1.00      1.00        30\n",
            "weighted avg       1.00      1.00      1.00        30\n",
            "\n",
            "\n",
            "Confusion Matrix:\n",
            "[[10  0  0]\n",
            " [ 0  9  0]\n",
            " [ 0  0 11]]\n"
          ]
        }
      ]
    },
    {
      "cell_type": "markdown",
      "source": [
        "23. Write a Python program to train an SVM Classifier and visualize the Confusion Matrix using seaborn."
      ],
      "metadata": {
        "id": "8pS-afzzMj2w"
      }
    },
    {
      "cell_type": "code",
      "source": [
        "import seaborn as sns\n",
        "\n",
        "# Load the Iris dataset\n",
        "iris = datasets.load_iris()\n",
        "X = iris.data\n",
        "y = iris.target\n",
        "\n",
        "# Split the dataset into training and testing sets\n",
        "X_train, X_test, y_train, y_test = train_test_split(X, y, test_size=0.2, random_state=42)\n",
        "\n",
        "# Create an SVM classifier\n",
        "classifier = svm.SVC(random_state=42)\n",
        "\n",
        "# Train the classifier using the training data\n",
        "classifier.fit(X_train, y_train)\n",
        "\n",
        "# Make predictions on the test data\n",
        "y_pred = classifier.predict(X_test)\n",
        "\n",
        "# Compute the confusion matrix\n",
        "cm = metrics.confusion_matrix(y_test, y_pred)\n",
        "\n",
        "# Visualize the confusion matrix using seaborn\n",
        "plt.figure(figsize=(8, 6))\n",
        "sns.heatmap(cm, annot=True, fmt=\"d\", cmap=\"Blues\", xticklabels=iris.target_names, yticklabels=iris.target_names)\n",
        "plt.xlabel(\"Predicted Label\")\n",
        "plt.ylabel(\"True Label\")\n",
        "plt.title(\"Confusion Matrix\")\n",
        "plt.show()\n",
        "\n",
        "# Optional: Print accuracy for context\n",
        "accuracy = metrics.accuracy_score(y_test, y_pred)\n",
        "print(f\"Accuracy: {accuracy:.4f}\")"
      ],
      "metadata": {
        "colab": {
          "base_uri": "https://localhost:8080/",
          "height": 581
        },
        "id": "Vzj1FgYUMn3k",
        "outputId": "e5af61ab-3c11-4200-fe3d-7c699ac2511d"
      },
      "execution_count": 30,
      "outputs": [
        {
          "output_type": "display_data",
          "data": {
            "text/plain": [
              "<Figure size 800x600 with 2 Axes>"
            ],
            "image/png": "[encoded data removed]"
          },
          "metadata": {}
        },
        {
          "output_type": "stream",
          "name": "stdout",
          "text": [
            "Accuracy: 1.0000\n"
          ]
        }
      ]
    },
    {
      "cell_type": "markdown",
      "source": [
        "24. Write a Python program to train an SVM Regressor (SVR) and evaluate its performance using Mean Absolute\n",
        "Error (MAE) instead of MSE."
      ],
      "metadata": {
        "id": "oXOraaLmMyqo"
      }
    },
    {
      "cell_type": "code",
      "source": [
        "# The previous code snippet already loads the California Housing dataset, splits it, scales it, trains an SVR, and calculates MAE.\n",
        "# I will just extract the relevant part for the MAE calculation.\n",
        "\n",
        "# Load the California Housing dataset\n",
        "housing = datasets.fetch_california_housing()\n",
        "X = housing.data\n",
        "y = housing.target\n",
        "\n",
        "# Split the dataset into training and testing sets\n",
        "X_train, X_test, y_train, y_test = train_test_split(X, y, test_size=0.2, random_state=42)\n",
        "\n",
        "# Standardize features by removing the mean and scaling to unit variance\n",
        "scaler = StandardScaler()\n",
        "X_train = scaler.fit_transform(X_train)\n",
        "X_test = scaler.transform(X_test)\n",
        "\n",
        "# Create an SVR model\n",
        "# You can experiment with different kernels (rbf, linear, poly) and hyperparameters (C, gamma, epsilon)\n",
        "svr = svm.SVR(kernel='rbf', C=100, gamma=0.1, epsilon=0.1)\n",
        "\n",
        "# Train the SVR model using the training data\n",
        "svr.fit(X_train, y_train)\n",
        "\n",
        "# Make predictions on the test data\n",
        "y_pred = svr.predict(X_test)\n",
        "\n",
        "# Evaluate the SVR model using Mean Absolute Error (MAE)\n",
        "mae = metrics.mean_absolute_error(y_test, y_pred)\n",
        "print(\"Mean Absolute Error (MAE):\", mae)\n",
        "\n",
        "# You can also optionally print other metrics for comparison\n",
        "# mse = metrics.mean_squared_error(y_test, y_pred)\n",
        "# print(\"Mean Squared Error (MSE):\", mse)\n",
        "# rmse = mse ** 0.5\n",
        "# print(\"Root Mean Squared Error (RMSE):\", rmse)"
      ],
      "metadata": {
        "colab": {
          "base_uri": "https://localhost:8080/"
        },
        "id": "xpJ8xeklM2mn",
        "outputId": "3d47ce78-da1c-4fd9-81f0-9e451ae75dab"
      },
      "execution_count": 31,
      "outputs": [
        {
          "output_type": "stream",
          "name": "stdout",
          "text": [
            "Mean Absolute Error (MAE): 0.37376508304715095\n"
          ]
        }
      ]
    },
    {
      "cell_type": "markdown",
      "source": [
        "25. Write a Python program to train a Naïve Bayes classifier and evaluate its performance using the ROC-AUC\n",
        "score."
      ],
      "metadata": {
        "id": "KM_aVTqJNl9r"
      }
    },
    {
      "cell_type": "code",
      "source": [
        "import seaborn as sns\n",
        "from sklearn.metrics import roc_auc_score, roc_curve\n",
        "\n",
        "# Load a binary classification dataset (e.g., Breast Cancer)\n",
        "breast_cancer = datasets.load_breast_cancer()\n",
        "X = breast_cancer.data\n",
        "y = breast_cancer.target # This is already binary (0 and 1)\n",
        "\n",
        "# Split the dataset into training and testing sets\n",
        "X_train, X_test, y_train, y_test = train_test_split(X, y, test_size=0.2, random_state=42)\n",
        "\n",
        "# Create a Gaussian Naïve Bayes classifier\n",
        "nb_classifier = GaussianNB()\n",
        "\n",
        "# Train the classifier using the training data\n",
        "nb_classifier.fit(X_train, y_train)\n",
        "\n",
        "# To compute ROC-AUC, we need the predicted probabilities for the positive class (class 1).\n",
        "# Naïve Bayes models in scikit-learn have a predict_proba method.\n",
        "# predict_proba returns probabilities for each class. We need the probability for the positive class (usually the second column).\n",
        "y_pred_proba = nb_classifier.predict_proba(X_test)[:, 1]\n",
        "\n",
        "# Compute the ROC-AUC score\n",
        "# roc_auc_score requires the true binary labels and the predicted probabilities of the positive class\n",
        "roc_auc = roc_auc_score(y_test, y_pred_proba)\n",
        "\n",
        "print(\"ROC-AUC Score:\", roc_auc)\n",
        "\n",
        "# Optional: Visualize the ROC curve\n",
        "fpr, tpr, thresholds = roc_curve(y_test, y_pred_proba)\n",
        "\n",
        "plt.figure(figsize=(8, 6))\n",
        "plt.plot(fpr, tpr, label=f'ROC curve (AUC = {roc_auc:.2f})')\n",
        "plt.plot([0, 1], [0, 1], 'k--', label='Random guess') # Diagonal random guess line\n",
        "plt.xlabel('False Positive Rate (FPR)')\n",
        "plt.ylabel('True Positive Rate (TPR)')\n",
        "plt.title('Receiver Operating Characteristic (ROC) Curve')\n",
        "plt.legend(loc='lower right')\n",
        "plt.grid(True)\n",
        "plt.show()\n",
        "\n",
        "# Optional: Also evaluate accuracy for context\n",
        "y_pred = nb_classifier.predict(X_test)\n",
        "accuracy = metrics.accuracy_score(y_test, y_pred)\n",
        "print(\"Accuracy:\", accuracy)"
      ],
      "metadata": {
        "colab": {
          "base_uri": "https://localhost:8080/",
          "height": 599
        },
        "id": "hSE6ID2ANpnk",
        "outputId": "0e252842-fa3f-46a7-bb90-855c6619207d"
      },
      "execution_count": 32,
      "outputs": [
        {
          "output_type": "stream",
          "name": "stdout",
          "text": [
            "ROC-AUC Score: 0.9983622666229938\n"
          ]
        },
        {
          "output_type": "display_data",
          "data": {
            "text/plain": [
              "<Figure size 800x600 with 1 Axes>"
            ],
            "image/png": "[encoded data removed]"
          },
          "metadata": {}
        },
        {
          "output_type": "stream",
          "name": "stdout",
          "text": [
            "Accuracy: 0.9736842105263158\n"
          ]
        }
      ]
    },
    {
      "cell_type": "markdown",
      "source": [
        "26. Write a Python program to train an SVM Classifier and visualize the Precision-Recall Curve."
      ],
      "metadata": {
        "id": "cKsdTCSUN5L4"
      }
    },
    {
      "cell_type": "code",
      "source": [
        "from sklearn.metrics import precision_recall_curve, auc\n",
        "import seaborn as sns\n",
        "\n",
        "# Load a dataset suitable for binary classification (e.g., Breast Cancer)\n",
        "breast_cancer = datasets.load_breast_cancer()\n",
        "X = breast_cancer.data\n",
        "y = breast_cancer.target # This is already binary (0 for malignant, 1 for benign)\n",
        "\n",
        "# We want to visualize the PR curve for the positive class (class 1 - benign in this dataset)\n",
        "# Let's ensure the positive class is handled correctly if needed, although Breast Cancer is binary.\n",
        "\n",
        "# Split the dataset into training and testing sets\n",
        "X_train, X_test, y_train, y_test = train_test_split(X, y, test_size=0.2, random_state=42)\n",
        "\n",
        "# Create an SVM classifier\n",
        "# We need decision_function or predict_proba for the PR curve.\n",
        "# SVC with default kernel='rbf' provides decision_function.\n",
        "# If you use probability=True, you can use predict_proba, which might be more intuitive for probability interpretation,\n",
        "# but decision_function is often used for SVM PR curves as it represents the distance to the hyperplane.\n",
        "svm_classifier = svm.SVC(random_state=42, probability=True) # Using probability=True to get predict_proba\n",
        "\n",
        "# Train the classifier using the training data\n",
        "svm_classifier.fit(X_train, y_train)\n",
        "\n",
        "# To plot the Precision-Recall curve, we need the predicted probabilities or decision scores for the positive class.\n",
        "# For predict_proba, get the probability of the positive class (class 1).\n",
        "y_pred_proba = svm_classifier.predict_proba(X_test)[:, 1]\n",
        "\n",
        "# Compute the Precision-Recall curve points\n",
        "precision, recall, thresholds = precision_recall_curve(y_test, y_pred_proba)\n",
        "\n",
        "# Compute the Area Under the Precision-Recall Curve (AUPRC or PR AUC)\n",
        "auprc = auc(recall, precision)\n",
        "\n",
        "# Visualize the Precision-Recall curve\n",
        "plt.figure(figsize=(8, 6))\n",
        "plt.plot(recall, precision, label=f'Precision-Recall curve (AUC = {auprc:.2f})')\n",
        "plt.xlabel('Recall')\n",
        "plt.ylabel('Precision')\n",
        "plt.title('Precision-Recall Curve')\n",
        "plt.legend(loc='lower left')\n",
        "plt.grid(True)\n",
        "plt.show()\n",
        "\n",
        "# Optional: Print other evaluation metrics for context\n",
        "y_pred = svm_classifier.predict(X_test)\n",
        "accuracy = metrics.accuracy_score(y_test, y_pred)\n",
        "print(f\"Accuracy: {accuracy:.4f}\")\n",
        "print(\"\\nClassification Report:\")\n",
        "print(metrics.classification_report(y_test, y_pred))\n",
        "print(\"\\nConfusion Matrix:\")\n",
        "print(metrics.confusion_matrix(y_test, y_pred))"
      ],
      "metadata": {
        "colab": {
          "base_uri": "https://localhost:8080/",
          "height": 842
        },
        "id": "N6As1jVZN9PT",
        "outputId": "788c833e-a622-40a8-a2ea-f2a9c5bd6cdf"
      },
      "execution_count": 33,
      "outputs": [
        {
          "output_type": "display_data",
          "data": {
            "text/plain": [
              "<Figure size 800x600 with 1 Axes>"
            ],
            "image/png": "[encoded data removed]"
          },
          "metadata": {}
        },
        {
          "output_type": "stream",
          "name": "stdout",
          "text": [
            "Accuracy: 0.9474\n",
            "\n",
            "Classification Report:\n",
            "              precision    recall  f1-score   support\n",
            "\n",
            "           0       1.00      0.86      0.93        43\n",
            "           1       0.92      1.00      0.96        71\n",
            "\n",
            "    accuracy                           0.95       114\n",
            "   macro avg       0.96      0.93      0.94       114\n",
            "weighted avg       0.95      0.95      0.95       114\n",
            "\n",
            "\n",
            "Confusion Matrix:\n",
            "[[37  6]\n",
            " [ 0 71]]\n"
          ]
        }
      ]
    }
  ]
}